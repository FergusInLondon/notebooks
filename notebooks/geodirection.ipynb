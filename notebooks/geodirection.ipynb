{
 "cells": [
  {
   "cell_type": "markdown",
   "id": "2d17bb4c-b301-426f-8b93-09fd3391a90f",
   "metadata": {},
   "source": [
    "\n",
    "1. Euclidean\n",
    "\n",
    "Given $\\phi$ as latitude, $\\lambda$ as longitude, $R$ as the earth's radius, and two locations represented by coordinates $A$ and $B$, then:\n",
    "\n",
    "$$\n",
    "\\begin{aligned}\n",
    "a & = sin^2(\\frac{\\phi B-\\phi A}{2}) + cos(\\phi A) \\times cos(\\phi B) \\times sin^2(\\frac{\\lambda B - \\lambda A}{2}) \\\\\n",
    "c & =  2 \\times atan2(\\sqrt{a}, \\sqrt{1-a}) \\\\\n",
    "d & = R \\times c\n",
    "\\end{aligned}\n",
    "$$\n"
   ]
  },
  {
   "cell_type": "code",
   "execution_count": 1,
   "id": "fd8ca3d6-e2fb-43e4-8f17-b54a51032931",
   "metadata": {},
   "outputs": [],
   "source": [
    "from collections import namedtuple\n",
    "from math import radians, sin, cos, atan2, sqrt, degrees\n",
    "\n",
    "# Point is a convenience wrapper to hold the co-ordinates belonging to\n",
    "# a particular \"point\" - i.e. the base station location, or the remote\n",
    "# device location.\n",
    "#\n",
    "# Units: lat, long = radians. alt = meters.\n",
    "Point = namedtuple('Point', ['lat', 'lon', 'alt'])\n",
    "\n",
    "def point(lat: float, lon: float, alt: float) -> Point:\n",
    "  return Point(lat=radians(lat), lon=radians(lon), alt=alt)\n",
    "\n",
    "# Direction is a convenience wrapper that holds the information about the\n",
    "# \"direction\" between two Points; these should translate pretty well for\n",
    "# use with a 2-axis gimbal.\n",
    "#\n",
    "# Units: bearing = degrees. elevation, distance = meters.\n",
    "Direction = namedtuple('Direction', ['bearing', 'elevation', 'distance'])\n",
    "\n",
    "class Location:\n",
    "  def __init__(self, location: Point, precision: int = 2) -> None:\n",
    "    self.location = location\n",
    "    self.precision = precision\n",
    "\n",
    "\n",
    "  def update(self, **kwargs):\n",
    "    update = { k : kwargs[k] for k in kwargs if k in ['lat', 'lon', 'alt'] }\n",
    "    if not (len(update) > 0 and len(update) < 3):\n",
    "      raise ValueError(f\"location update must consist of a subset of ['lat', 'lon', 'alt'] - got {list(kwargs.keys())}\")\n",
    "\n",
    "    self.location = self.location._replace(**update)\n",
    "\n",
    "\n",
    "  @staticmethod\n",
    "  def _calculate(base: Point, remote: Point, precision: int = 2) -> tuple:\n",
    "    R = 6371000.0 # Radius of the Earth\n",
    "\n",
    "    delta_lat = remote.lat - base.lat\n",
    "    delta_lon = remote.lon - base.lon\n",
    "\n",
    "    # Distance: Haversine Formula\n",
    "    distance = R * (2 * atan2(\n",
    "      sqrt((a := sin(delta_lat / 2)**2 + cos(base.lat) * cos(remote.lat) * sin(delta_lon / 2)**2)),\n",
    "      sqrt(1 - a)\n",
    "    ))\n",
    "\n",
    "    # Angle of Elevation\n",
    "    angle_of_elevation = degrees(atan2(remote.alt - base.alt, distance))\n",
    "\n",
    "    # Bearing\n",
    "    y = sin(delta_lon) * cos(remote.lat)\n",
    "    x = cos(base.lat) * sin(remote.lat) - (sin(base.lat) * cos(remote.lat) * cos(delta_lon))\n",
    "    bearing = (degrees(atan2(y, x)) + 360) % 360 # @note: is the degrees() call in the correct location here?\n",
    "\n",
    "    return Direction(\n",
    "      bearing   = round(bearing, precision),\n",
    "      elevation = round(angle_of_elevation, precision),\n",
    "      distance  = round(distance, precision)\n",
    "    )\n",
    "\n",
    "\n",
    "  def direction(self, remote: Point) -> Direction:\n",
    "    return self._calculate(self.location, remote, self.precision)\n"
   ]
  },
  {
   "cell_type": "markdown",
   "id": "12764c4c-b13f-4e7f-bca8-f9edcf0aaed3",
   "metadata": {},
   "source": [
    "## Demonstration\n",
    "\n",
    "The calculations above can be demonstrated by using `ipyleaflet`; first we need to create:\n",
    "\n",
    "1. A static marker to represent our \"base\" location; this will be coloured red.\n",
    "2. A draggable marker to represent our \"remote\" location; this will be coloured blue.\n",
    "3. An input slider that accepts integer values, allowing different altitude values to be used.\n",
    "4. A HTML widget that can display the results.\n"
   ]
  },
  {
   "cell_type": "code",
   "execution_count": 2,
   "id": "5e88b60f-7b9e-4087-9726-dfa39db26c41",
   "metadata": {},
   "outputs": [],
   "source": [
    "from ipyleaflet import Map, Marker, WidgetControl, AwesomeIcon\n",
    "import ipywidgets as widgets\n",
    "\n",
    "base_marker = Marker(location=(51.5048226, -0.113632836), icon=AwesomeIcon(\n",
    "    name='compass',\n",
    "    marker_color='red',\n",
    "    icon_color='white',\n",
    "), draggable=False)\n",
    "\n",
    "remote_marker = Marker(location=(51.5041468, -0.118133430), icon=AwesomeIcon(\n",
    "    name='arrows',\n",
    "    marker_color='blue',\n",
    "    icon_color='darkblue',\n",
    "    spin=True\n",
    "))\n",
    "\n",
    "altitude_input = widgets.IntSlider(\n",
    "    value=0,\n",
    "    min=0,\n",
    "    max=150,\n",
    "    step=5,\n",
    "    description='Altitude:',\n",
    "    disabled=False,\n",
    "    continuous_update=False,\n",
    "    orientation='horizontal',\n",
    "    readout=True,\n",
    "    readout_format='d'\n",
    ")\n",
    "\n",
    "calc_output = widgets.HTML()"
   ]
  },
  {
   "cell_type": "markdown",
   "id": "7177eaad-7cbd-42cc-8d32-96a4a6c0cd6e",
   "metadata": {},
   "source": [
    "A simple function - `handle_updated_parameters` is defined to handle any interactions with the map; this will be triggered if either (a) a new altitude is input, or (b) the \"remote\" location Marker is moved. \n",
    "\n",
    "This function uses the `_calculate(Point, Point)` method that's defined on the `Location` object. The `Point` values are generated directly from the state of the map, and recalculated everytime the function runs. "
   ]
  },
  {
   "cell_type": "code",
   "execution_count": 3,
   "id": "67c25cfd-09c6-44d6-9fcb-4531a39000bd",
   "metadata": {},
   "outputs": [],
   "source": [
    "def handle_updated_parameters(*args, **kwargs):\n",
    "    def direction_html(dir):\n",
    "        out = \" - \".join([\n",
    "            f\"<b>Distance (m)</b>: {dir.distance}\", f\"<b>Elevation</b>: {dir.elevation}&deg;\", f\"<b>Bearing</b>: {dir.bearing}&deg;\"\n",
    "        ])\n",
    "        return f\"&nbsp;{out}&nbsp;\"\n",
    "\n",
    "    calc_output.value = direction_html(Location._calculate(\n",
    "        point(base_marker.location[0], base_marker.location[1], 0),\n",
    "        point(remote_marker.location[0], remote_marker.location[1], altitude_input.value)\n",
    "    ))\n",
    "\n",
    "altitude_input.observe(handle_updated_parameters, 'value')\n",
    "remote_marker.observe(handle_updated_parameters, 'location')\n",
    "handle_updated_parameters() # handle current/default parameters (sets the output for first load.)"
   ]
  },
  {
   "cell_type": "markdown",
   "id": "a678c3f3-a192-4f48-9aa2-b5b2e1d6fb7d",
   "metadata": {},
   "source": [
    "With the event handlers configured, the UI widgets can be added to the map and displayed.\n",
    "\n",
    "- To adjust the remote location, simply drag the blue marker within the map.\n",
    "- To adjust the altitude of the remote location, use the slider located at the top-right corner of the map.\n",
    "- The bearing, angle of elevation, and distance can be found in the bottom-right corner of the map - and they will be automatically updated upon any changes."
   ]
  },
  {
   "cell_type": "code",
   "execution_count": 4,
   "id": "076da817-2050-4690-911a-46a5e0becbdd",
   "metadata": {},
   "outputs": [
    {
     "data": {
      "application/vnd.jupyter.widget-view+json": {
       "model_id": "59fae946a6384443b9cf031225cca284",
       "version_major": 2,
       "version_minor": 0
      },
      "text/plain": [
       "Map(center=[51.5048226, -0.113632836], controls=(ZoomControl(options=['position', 'zoom_in_text', 'zoom_in_tit…"
      ]
     },
     "metadata": {},
     "output_type": "display_data"
    }
   ],
   "source": [
    "m = Map(center=base_marker.location, controls=[], dragging=False, zoom=17)\n",
    "\n",
    "m.add(base_marker)\n",
    "m.add(remote_marker)\n",
    "m.add_control(WidgetControl(widget=altitude_input, position='topright'))\n",
    "m.add_control(WidgetControl(widget=calc_output, position='bottomright'))\n",
    "\n",
    "display(m)"
   ]
  },
  {
   "cell_type": "markdown",
   "id": "ae4cbba3-3c76-402b-84a6-0927dad26e82",
   "metadata": {},
   "source": [
    "## Tests\n",
    "\n",
    "To verify the accuracy of these calculations, a number of simple tests have been included. These are powered by a simple comparison/assertion function, two \"runner\" functions (`run_geographic_tests` and `run_elevation_tests`), and some `namedtuples` to enhance the readability of the code.\n",
    "\n",
    "Tests are grouped in to two specific types - largely as throw-back to how code was initially written rather than any specific technical reason. These types are:\n",
    "\n",
    "- **Geographic Tests:** used to verify that the calculation of bearings and distances are correct.\n",
    "- **Elevation Tests:** used to verify that the calculation of \"angle of elevation\" are correct.\n"
   ]
  },
  {
   "cell_type": "code",
   "execution_count": 8,
   "id": "d534bda5-a1b9-4639-9261-5654af9014da",
   "metadata": {},
   "outputs": [],
   "source": [
    "from typing import List\n",
    "\n",
    "def compare(expected: Direction, actual: Direction):\n",
    "  \"\"\" Verifies that all three properties of the output `Direction` are equal to the expected values. \"\"\"\n",
    "  return all([\n",
    "    getattr(expected, prop) == getattr(actual, prop)\n",
    "    for prop in [\"bearing\", \"elevation\", \"distance\"]\n",
    "  ])\n",
    "\n",
    "# Base Location used for performing verification tests; test cases contain the output\n",
    "# associated with calculations that utilise this location as a base.\n",
    "TEST_BASE_LOCATION = (51.5069574, -0.112639096)\n",
    "\n",
    "# RemoteLocation used for performing tests to verify the calculation of \"angle of\n",
    "# elevation\" values.\n",
    "TEST_ALTI_LOCATION = (51.4986765, -0.104676284)\n",
    "\n",
    "# GeographicTestCase contains a `Point` value, and a `Direction` tuple containing\n",
    "# the expected Bearing and Distance to that `Point` from TEST_BASE_LOCATION.\n",
    "GeographicTestCase = namedtuple(\"GeographicTestCase\", [\"RemotePoint\", \"ExpectedDirection\"])\n",
    "\n",
    "# ElevationTestCase contains a base altitude, a remote altitude, and the expected\n",
    "# \"Angle of Elevation\" between two points at TEST_BASE_LOCATION and TEST_ALTI_LOCATION\n",
    "# at those altitudes.\n",
    "ElevationTestCase = namedtuple(\"ElevationTestCase\", [\"BaseAltitude\", \"RemoteAltitude\", \"ExpectedElevation\"])\n",
    "\n",
    "def run_geographic_tests(test_cases: List[GeographicTestCase]) -> bool:\n",
    "  \"\"\" Executes a number of list of tests and returns a boolean indicating whether *all* passed. \"\"\"\n",
    "  return all([\n",
    "    compare(t.ExpectedDirection, Location._calculate(point(TEST_BASE_LOCATION[0], TEST_BASE_LOCATION[1], 0), t.RemotePoint))\n",
    "    for t in test_cases\n",
    "  ])\n",
    "\n",
    "\n",
    "def run_elevation_tests(test_cases: List[ElevationTestCase]) -> bool:\n",
    "  \"\"\" Executes a number of list of tests and returns a boolean indicating whether *all* passed. \"\"\"\n",
    "  return all([\n",
    "    compare(\n",
    "      Direction(149.09, t.ExpectedElevation, 1073.14),\n",
    "      Location._calculate(point(TEST_BASE_LOCATION[0], TEST_BASE_LOCATION[1], t.BaseAltitude), point(TEST_ALTI_LOCATION[0], TEST_ALTI_LOCATION[1], t.RemoteAltitude))\n",
    "    ) for t in test_cases\n",
    "  ])"
   ]
  },
  {
   "cell_type": "markdown",
   "id": "4623c27b-8117-4e1c-bb84-4846195401be",
   "metadata": {},
   "source": [
    "Using this pattern to produce a simple test suite enables the easy production of \"*table driven tests*\" - as often seen in Golang. Note that the tests below are limited to distances below approximately 1km - which is the likely upper limit for the specific use-case in mind; but - due to the tabular structure of the tests - it would be trivial to introduce new test cases."
   ]
  },
  {
   "cell_type": "code",
   "execution_count": 12,
   "id": "922d9def-21d4-46a7-8662-70527bd67516",
   "metadata": {},
   "outputs": [
    {
     "name": "stdout",
     "output_type": "stream",
     "text": [
      "Geographic Tests Passing:  True\n",
      "Elevation Tests Passing:  True\n"
     ]
    }
   ],
   "source": [
    "print(\"Geographic Tests Passing: \", run_geographic_tests([\n",
    "                  # (Remote Point,                       Expected Direction           )\n",
    "  GeographicTestCase(point(51.4986765, -0.104676284, 0), Direction(149.09, 0, 1073.14)),\n",
    "  GeographicTestCase(point(51.4987206, -0.112233761, 0), Direction(178.25, 0, 916.32) ),\n",
    "  GeographicTestCase(point(51.5008267, -0.119832024, 0), Direction(216.14, 0, 844.14) ),\n",
    "  GeographicTestCase(point(51.5020523, -0.124047118, 0), Direction(235.37, 0, 959.66) ),\n",
    "  GeographicTestCase(point(51.5044345, -0.123437039, 0), Direction(249.43, 0, 798.26) ),\n",
    "  GeographicTestCase(point(51.5072307, -0.121800917, 0), Direction(272.75, 0, 634.81) ),\n",
    "  GeographicTestCase(point(51.5099059, -0.118168171, 0), Direction(310.59, 0, 503.90) ),\n",
    "  GeographicTestCase(point(51.5111140, -0.108711939, 0), Direction(30.46,  0, 536.18) ),        \n",
    "]))\n",
    "\n",
    "print(\"Elevation Tests Passing: \", run_elevation_tests([\n",
    "                   # (Base Altitude,  Remote Altitude, Expected Angle of Elevation)\n",
    "    ElevationTestCase(-5,             10,              0.80                       ),\n",
    "    ElevationTestCase( 0,             430,             21.84                      )\n",
    "]))"
   ]
  }
 ],
 "metadata": {
  "kernelspec": {
   "display_name": "Python 3 (ipykernel)",
   "language": "python",
   "name": "python3"
  },
  "language_info": {
   "codemirror_mode": {
    "name": "ipython",
    "version": 3
   },
   "file_extension": ".py",
   "mimetype": "text/x-python",
   "name": "python",
   "nbconvert_exporter": "python",
   "pygments_lexer": "ipython3",
   "version": "3.12.1"
  }
 },
 "nbformat": 4,
 "nbformat_minor": 5
}
